{
 "cells": [
  {
   "cell_type": "markdown",
   "metadata": {},
   "source": [
    "## Exploring Enron data\n",
    "\n",
    "\n",
    "The aggregated Enron email + financial dataset is stored in a dictionary, where each key in the dictionary is a person’s name and the value is a dictionary containing all the features of that person.\n",
    "\n",
    "The email + finance (E+F) data dictionary is stored as a pickle file, which is a handy way to store and load python objects directly. Use datasets_questions/explore_enron_data.py to load the dataset.\n",
    "\n",
    "1) How many data points (people) are in the dataset?"
   ]
  },
  {
   "cell_type": "code",
   "execution_count": 40,
   "metadata": {},
   "outputs": [
    {
     "name": "stdout",
     "output_type": "stream",
     "text": [
      "How many data points (people) are in the data set?: 146\n",
      "For each person, how many features are available?:  21\n",
      "\n",
      "The “poi” feature records whether the person is a person of interest, according to our definition. How many POIs are there in the E+F dataset?: 18\n",
      "\n",
      "Based on the poi_names.txt file, How many POI’s were there total?:  35\n",
      "\n",
      "What is the total value of the stock belonging to James Prentice? 1095040\n",
      "\n",
      "How many email messages do we have from Wesley Colwell to persons of interest?:  11\n",
      "\n",
      "What’s the value of stock options exercised by Jeffrey K Skilling?:  19250000\n",
      "{'salary': 1111258, 'to_messages': 3627, 'deferral_payments': 'NaN', 'total_payments': 8682716, 'exercised_stock_options': 19250000, 'bonus': 5600000, 'restricted_stock': 6843672, 'shared_receipt_with_poi': 2042, 'restricted_stock_deferred': 'NaN', 'total_stock_value': 26093672, 'expenses': 29336, 'loan_advances': 'NaN', 'from_messages': 108, 'other': 22122, 'from_this_person_to_poi': 30, 'poi': True, 'director_fees': 'NaN', 'deferred_income': 'NaN', 'long_term_incentive': 1920000, 'email_address': 'jeff.skilling@enron.com', 'from_poi_to_this_person': 88}\n",
      "\n",
      "How many folks in this dataset have a quantified salary?:  95\n",
      "\n",
      "What about a known email address?:  111\n",
      "\n",
      "How many people in the E+F dataset (as it currently exists) have “NaN” for their total payments?:  21 \n",
      "What percentage of people in the dataset as a whole is this?: ? 14 %\n"
     ]
    }
   ],
   "source": [
    "\"\"\" \n",
    "    Starter code for exploring the Enron dataset (emails + finances);\n",
    "    loads up the dataset (pickled dict of dicts).\n",
    "\n",
    "    The dataset has the form:\n",
    "    enron_data[\"LASTNAME FIRSTNAME MIDDLEINITIAL\"] = { features_dict }\n",
    "\n",
    "    {features_dict} is a dictionary of features associated with that person.\n",
    "    You should explore features_dict as part of the mini-project,\n",
    "    but here's an example to get you started:\n",
    "\n",
    "    enron_data[\"SKILLING JEFFREY K\"][\"bonus\"] = 5600000\n",
    "\"\"\"\n",
    "import pickle\n",
    "\n",
    "enron_data = pickle.load(open(\"../final_project/final_project_dataset.pkl\", \"r\"))\n",
    "\n",
    "# \n",
    "print \"How many data points (people) are in the data set?:\", len(enron_data.keys())\n",
    "print \"For each person, how many features are available?: \", len(enron_data[enron_data.keys()[0]])\n",
    "\n",
    "c = 0\n",
    "for a in enron_data:\n",
    "    if enron_data[a][\"poi\"] == 1:\n",
    "        c += 1\n",
    "print \"\\nThe “poi” feature records whether the person is a person of interest, according to our definition. How many POIs are there in the E+F dataset?:\", c\n",
    "\n",
    "\n",
    "# Reading text file\n",
    "f = open(\"../final_project/poi_names.txt\", \"r\")\n",
    "List_lines = f.readlines()[2:]\n",
    "print \"\\nBased on the poi_names.txt file, How many POI’s were there total?: \", len(List_lines)\n",
    "\n",
    "# Accessing dics\n",
    "print \"\\nWhat is the total value of the stock belonging to James Prentice?\", enron_data['PRENTICE JAMES']['total_stock_value']\n",
    "\n",
    "\n",
    "print \"\\nHow many email messages do we have from Wesley Colwell to persons of interest?: \", enron_data['COLWELL WESLEY']['from_this_person_to_poi']\n",
    "\n",
    "print \"\\nWhat’s the value of stock options exercised by Jeffrey K Skilling?: \", enron_data['SKILLING JEFFREY K']['exercised_stock_options']\n",
    "\n",
    "print enron_data['SKILLING JEFFREY K']\n",
    "\n",
    "c1 = 0; c2 = 0; c3 = 0\n",
    "for a in enron_data:\n",
    "    if enron_data[a]['salary'] != 'NaN':\n",
    "        c1 += 1\n",
    "    if enron_data[a]['email_address'] != 'NaN':\n",
    "        c2 += 1\n",
    "    if enron_data[a]['total_payments'] == 'NaN':\n",
    "        c3 += 1\n",
    "\n",
    "print \"\\nHow many folks in this dataset have a quantified salary?: \", c1\n",
    "print \"\\nWhat about a known email address?: \", c2\n",
    "print \"\\nHow many people in the E+F dataset (as it currently exists) have “NaN” for their total payments?: \", c3,\"\\nWhat percentage of people in the dataset as a whole is this?: ?\", c3*100/len(enron_data), \"%\"\n"
   ]
  }
 ],
 "metadata": {
  "kernelspec": {
   "display_name": "Python 2",
   "language": "python",
   "name": "python2"
  },
  "language_info": {
   "codemirror_mode": {
    "name": "ipython",
    "version": 2
   },
   "file_extension": ".py",
   "mimetype": "text/x-python",
   "name": "python",
   "nbconvert_exporter": "python",
   "pygments_lexer": "ipython2",
   "version": "2.7.14"
  }
 },
 "nbformat": 4,
 "nbformat_minor": 2
}
