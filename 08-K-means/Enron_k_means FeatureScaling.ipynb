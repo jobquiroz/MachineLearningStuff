{
 "cells": [
  {
   "cell_type": "markdown",
   "metadata": {},
   "source": [
    "## K-Means Clustering Mini-Project\n",
    "\n",
    "n this project, we’ll apply k-means clustering to our Enron financial data. Our final goal, of course, is to identify persons of interest; since we have labeled data, this is not a question that particularly calls for an unsupervised approach like k-means clustering.\n",
    "\n",
    "Nonetheless, you’ll get some hands-on practice with k-means in this project, and play around with feature scaling, which will give you a sneak preview of the next lesson’s material."
   ]
  },
  {
   "cell_type": "code",
   "execution_count": 29,
   "metadata": {},
   "outputs": [
    {
     "data": {
      "image/png": "[encoded data removed]",
      "text/plain": [
       "<matplotlib.figure.Figure at 0xb3b7fd0>"
      ]
     },
     "metadata": {},
     "output_type": "display_data"
    },
    {
     "name": "stdout",
     "output_type": "stream",
     "text": [
      "si\n"
     ]
    },
    {
     "data": {
      "image/png": "[encoded data removed]",
      "text/plain": [
       "<matplotlib.figure.Figure at 0xb3b70b8>"
      ]
     },
     "metadata": {},
     "output_type": "display_data"
    }
   ],
   "source": [
    "#!/usr/bin/python \n",
    "%matplotlib inline\n",
    "\"\"\" \n",
    "    Skeleton code for k-means clustering mini-project.\n",
    "\"\"\"\n",
    "\n",
    "import pickle\n",
    "import numpy\n",
    "import matplotlib.pyplot as plt\n",
    "import sys\n",
    "sys.path.append(\"../tools/\")\n",
    "from feature_format import featureFormat, targetFeatureSplit\n",
    "\n",
    "\n",
    "def Draw(pred, features, poi, mark_poi=False, name=\"image.png\", f1_name=\"feature 1\", f2_name=\"feature 2\"):\n",
    "    \"\"\" some plotting code designed to help you visualize your clusters \"\"\"\n",
    "    ### plot each cluster with a different color--add more colors for\n",
    "    ### drawing more than five clusters\n",
    "    colors = [\"b\", \"c\", \"k\", \"m\", \"g\"]\n",
    "    for ii, pp in enumerate(pred):\n",
    "        plt.scatter(features[ii][0], features[ii][1], color = colors[pred[ii]])\n",
    "\n",
    "    ### if you like, place red stars over points that are POIs (just for funsies)\n",
    "    if mark_poi:\n",
    "        for ii, pp in enumerate(pred):\n",
    "            if poi[ii]:\n",
    "                plt.scatter(features[ii][0], features[ii][1], color=\"r\", marker=\"*\")\n",
    "    plt.xlabel(f1_name)\n",
    "    plt.ylabel(f2_name)\n",
    "    plt.savefig(name)\n",
    "    plt.show()\n",
    "\n",
    "\n",
    "### load in the dict of dicts containing all the data on each person in the dataset\n",
    "data_dict = pickle.load( open(\"../final_project/final_project_dataset.pkl\", \"r\") )\n",
    "### there's an outlier--remove it! \n",
    "data_dict.pop(\"TOTAL\", 0)\n",
    "\n",
    "\n",
    "### the input features we want to use \n",
    "### can be any key in the person-level dictionary (salary, director_fees, etc.) \n",
    "feature_1 = \"salary\"\n",
    "feature_2 = \"exercised_stock_options\"\n",
    "#feature_3 = \"total_payments\"\n",
    "poi  = \"poi\"\n",
    "features_list = [poi, feature_1, feature_2] #, feature_3]\n",
    "data = featureFormat(data_dict, features_list )\n",
    "poi, finance_features = targetFeatureSplit( data )\n",
    "\n",
    "##############################################\n",
    "# Feature scaling (MinMaxScaler)\n",
    "from sklearn.preprocessing import MinMaxScaler\n",
    "\n",
    "# Creating salary and stock options array\n",
    "salary_arr = numpy.array([[float(x[0])] for x in finance_features])\n",
    "stock_arr =  numpy.array([[float(x[1])] for x in finance_features])\n",
    "\n",
    "# using reshape method...\n",
    "# A = numpy.array([122., 124., 150., 180., 100.]) ->>>   A.reshape(-1, 1)  ->>> A.reshape(-1, 1).reshape(1,-1)\n",
    "scaler = MinMaxScaler()\n",
    "salary_scal = scaler.fit_transform(salary_arr)\n",
    "stock_scal  = scaler.fit_transform(stock_arr)\n",
    "\n",
    "finance_features = [numpy.array([x[0][0], x[1][0]]) for x in zip(salary_scal, stock_scal)]\n",
    "\n",
    "\n",
    "#################################################\n",
    "### in the \"clustering with 3 features\" part of the mini-project,\n",
    "### you'll want to change this line to \n",
    "### for f1, f2, _ in finance_features:\n",
    "### (as it's currently written, the line below assumes 2 features)\n",
    "for f1, f2 in finance_features:\n",
    "    plt.scatter( f1, f2 )\n",
    "plt.show()\n",
    "\n",
    "### cluster here; create predictions of the cluster labels\n",
    "### for the data and store them to a list called pred\n",
    "from sklearn.cluster import KMeans\n",
    "\n",
    "clustt = KMeans(n_clusters = 2, init = 'random', n_init=10)\n",
    "clustt.fit(finance_features)\n",
    "pred = clustt.predict(finance_features)\n",
    "\n",
    "\n",
    "### rename the \"name\" parameter when you change the number of features\n",
    "### so that the figure gets saved to a different file\n",
    "try:\n",
    "    print 'si'\n",
    "    Draw(pred, finance_features, poi, mark_poi=False, name=\"clusters.pdf\", f1_name=feature_1, f2_name=feature_2)\n",
    "except NameError:\n",
    "    print \"no predictions object named pred found, no clusters to plot\"\n"
   ]
  },
  {
   "cell_type": "code",
   "execution_count": 30,
   "metadata": {},
   "outputs": [
    {
     "name": "stdout",
     "output_type": "stream",
     "text": [
      "Maximum and minimum values by the exercised_stock_options:  3285 and 34348384\n",
      "Maximum and minimum values by salary:  477 and 1111258\n"
     ]
    }
   ],
   "source": [
    "# 1) What are the maximum and minimum values taken by the “exercised_stock_options” feature used in this example?\n",
    "#data_dict\n",
    "# 2) What are the maximum and minimum values taken by “salary”?\n",
    "stock_lists = []\n",
    "salary = []\n",
    "for k in data_dict:\n",
    "    val = data_dict[k]['exercised_stock_options']\n",
    "    val_2 = data_dict[k]['salary']\n",
    "    if val != 'NaN':\n",
    "        stock_lists.append(val)\n",
    "    if val_2 != 'NaN':\n",
    "        salary.append(val_2)\n",
    "        \n",
    "print \"Maximum and minimum values by the exercised_stock_options: \", min(stock_lists), \"and\", max(stock_lists)\n",
    "print \"Maximum and minimum values by salary: \", min(salary), \"and\", max(salary)\n",
    "    "
   ]
  },
  {
   "cell_type": "code",
   "execution_count": 46,
   "metadata": {},
   "outputs": [
    {
     "name": "stdout",
     "output_type": "stream",
     "text": [
      "0.17997620714541537\n",
      "0.02911345115974015\n"
     ]
    }
   ],
   "source": [
    "# Apply feature scaling to your k-means clustering code from the last lesson, on the “salary” and “exercised_stock_options”\n",
    "# features (use only these two features). What would be the rescaled value of a \"salary\" feature that had an original \n",
    "# value of $200,000, and an \"exercised_stock_options\" feature of $1 million? (Be sure to represent these numbers as floats, \n",
    "# not integers!)\n",
    "\n",
    "# By using the formula\n",
    "print (200000 - salary_arr.min()) / (salary_arr.max() - salary_arr.min())\n",
    "print (1000000 - stock_arr.min()) / (stock_arr.max() - stock_arr.min())\n"
   ]
  }
 ],
 "metadata": {
  "kernelspec": {
   "display_name": "Python 2",
   "language": "python",
   "name": "python2"
  },
  "language_info": {
   "codemirror_mode": {
    "name": "ipython",
    "version": 2
   },
   "file_extension": ".py",
   "mimetype": "text/x-python",
   "name": "python",
   "nbconvert_exporter": "python",
   "pygments_lexer": "ipython2",
   "version": "2.7.14"
  }
 },
 "nbformat": 4,
 "nbformat_minor": 2
}
